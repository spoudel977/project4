{
  "nbformat": 4,
  "nbformat_minor": 0,
  "metadata": {
    "colab": {
      "provenance": []
    },
    "kernelspec": {
      "name": "python3",
      "display_name": "Python 3"
    },
    "language_info": {
      "name": "python"
    }
  },
  "cells": [
    {
      "cell_type": "code",
      "execution_count": null,
      "metadata": {
        "colab": {
          "base_uri": "https://localhost:8080/"
        },
        "id": "AjtF--gVAqMg",
        "outputId": "489223a3-27b8-448c-db68-118d2df642fd"
      },
      "outputs": [
        {
          "output_type": "stream",
          "name": "stdout",
          "text": [
            "Requirement already satisfied: scikit-learn in /usr/local/lib/python3.10/dist-packages (1.2.2)\n",
            "Requirement already satisfied: numpy>=1.17.3 in /usr/local/lib/python3.10/dist-packages (from scikit-learn) (1.25.2)\n",
            "Requirement already satisfied: scipy>=1.3.2 in /usr/local/lib/python3.10/dist-packages (from scikit-learn) (1.11.4)\n",
            "Requirement already satisfied: joblib>=1.1.1 in /usr/local/lib/python3.10/dist-packages (from scikit-learn) (1.4.2)\n",
            "Requirement already satisfied: threadpoolctl>=2.0.0 in /usr/local/lib/python3.10/dist-packages (from scikit-learn) (3.5.0)\n"
          ]
        }
      ],
      "source": [
        "# Install scikit-learn\n",
        "!pip install scikit-learn"
      ]
    },
    {
      "cell_type": "code",
      "source": [],
      "metadata": {
        "id": "DPnWL4jJAWwC"
      },
      "execution_count": null,
      "outputs": []
    },
    {
      "cell_type": "code",
      "source": [
        "# Mount Google Drive\n",
        "from google.colab import drive\n",
        "drive.mount('/content/drive')"
      ],
      "metadata": {
        "colab": {
          "base_uri": "https://localhost:8080/"
        },
        "id": "J-wg1WzRAwxu",
        "outputId": "ede4c430-fe01-47f0-b730-cedd53916b46"
      },
      "execution_count": null,
      "outputs": [
        {
          "output_type": "stream",
          "name": "stdout",
          "text": [
            "Mounted at /content/drive\n"
          ]
        }
      ]
    },
    {
      "cell_type": "code",
      "source": [
        "import pandas as pd\n",
        "import numpy as np\n",
        "from sklearn.model_selection import train_test_split\n",
        "from sklearn.preprocessing import StandardScaler\n",
        "from sklearn.metrics import classification_report, confusion_matrix, accuracy_score\n",
        "from sklearn.utils.class_weight import compute_class_weight\n",
        "from sklearn.linear_model import LogisticRegression\n",
        "from sklearn.impute import SimpleImputer"
      ],
      "metadata": {
        "id": "4iuwAwMLA0ld"
      },
      "execution_count": null,
      "outputs": []
    },
    {
      "cell_type": "code",
      "source": [
        "# Load dataset from Google Drive\n",
        "df = pd.read_csv('/content/drive/My Drive/Project4/df_final.csv')"
      ],
      "metadata": {
        "id": "T1Ww0NB4A7GW"
      },
      "execution_count": null,
      "outputs": []
    },
    {
      "cell_type": "code",
      "source": [
        "# Define target and features\n",
        "target_column = 'Credit_Score'  # Replace with your actual target column\n",
        "X = df.drop(target_column, axis=1)\n",
        "y = df[target_column]"
      ],
      "metadata": {
        "id": "MoaKaCrcBBeS"
      },
      "execution_count": null,
      "outputs": []
    },
    {
      "cell_type": "code",
      "source": [
        "# Handle categorical variables\n",
        "X = pd.get_dummies(X)\n",
        "y = y.astype('category').cat.codes  # Convert multi-class target to single label format\n"
      ],
      "metadata": {
        "id": "n5WKIC14BDIb"
      },
      "execution_count": null,
      "outputs": []
    },
    {
      "cell_type": "code",
      "source": [
        "# Impute missing values\n",
        "imputer = SimpleImputer(strategy='mean')\n",
        "X = imputer.fit_transform(X)"
      ],
      "metadata": {
        "id": "omv07_GMMPpJ"
      },
      "execution_count": null,
      "outputs": []
    },
    {
      "cell_type": "code",
      "source": [
        "# Split the data\n",
        "X_train, X_temp, y_train, y_temp = train_test_split(X, y, test_size=0.30, random_state=42)\n",
        "X_val, X_test, y_val, y_test = train_test_split(X_temp, y_temp, test_size=0.50, random_state=42)\n",
        "\n"
      ],
      "metadata": {
        "id": "3PTyi0OSBGsA"
      },
      "execution_count": null,
      "outputs": []
    },
    {
      "cell_type": "code",
      "source": [
        "# Scale the features\n",
        "scaler = StandardScaler()\n",
        "X_train = scaler.fit_transform(X_train)\n",
        "X_val = scaler.transform(X_val)\n",
        "X_test = scaler.transform(X_test)"
      ],
      "metadata": {
        "id": "XGPkPwq9BLQg"
      },
      "execution_count": null,
      "outputs": []
    },
    {
      "cell_type": "code",
      "source": [
        "# Calculate class weights\n",
        "class_weights = compute_class_weight('balanced', classes=np.unique(y), y=y)\n",
        "class_weights = {i : class_weights[i] for i in range(len(class_weights))}\n",
        "\n"
      ],
      "metadata": {
        "id": "qgitcDMkBSCz"
      },
      "execution_count": null,
      "outputs": []
    },
    {
      "cell_type": "code",
      "source": [
        "# Define the Logistic Regression model\n",
        "model = LogisticRegression(max_iter=1000, class_weight=class_weights, random_state=42, solver='lbfgs', multi_class='multinomial')\n",
        "\n"
      ],
      "metadata": {
        "id": "IcSSkNZvBY_c"
      },
      "execution_count": null,
      "outputs": []
    },
    {
      "cell_type": "code",
      "source": [
        "# Train the model\n",
        "model.fit(X_train, y_train)"
      ],
      "metadata": {
        "colab": {
          "base_uri": "https://localhost:8080/",
          "height": 109
        },
        "id": "8ON2pPfvBaNy",
        "outputId": "c2b3c80a-90f5-448e-f7c0-954bccfdc0d9"
      },
      "execution_count": null,
      "outputs": [
        {
          "output_type": "execute_result",
          "data": {
            "text/plain": [
              "LogisticRegression(class_weight={0: 0.9456040744760792, 1: 0.9200991144690877,\n",
              "                                 2: 1.1687219441721273},\n",
              "                   max_iter=1000, multi_class='multinomial', random_state=42)"
            ],
            "text/html": [
              "<style>#sk-container-id-1 {color: black;background-color: white;}#sk-container-id-1 pre{padding: 0;}#sk-container-id-1 div.sk-toggleable {background-color: white;}#sk-container-id-1 label.sk-toggleable__label {cursor: pointer;display: block;width: 100%;margin-bottom: 0;padding: 0.3em;box-sizing: border-box;text-align: center;}#sk-container-id-1 label.sk-toggleable__label-arrow:before {content: \"▸\";float: left;margin-right: 0.25em;color: #696969;}#sk-container-id-1 label.sk-toggleable__label-arrow:hover:before {color: black;}#sk-container-id-1 div.sk-estimator:hover label.sk-toggleable__label-arrow:before {color: black;}#sk-container-id-1 div.sk-toggleable__content {max-height: 0;max-width: 0;overflow: hidden;text-align: left;background-color: #f0f8ff;}#sk-container-id-1 div.sk-toggleable__content pre {margin: 0.2em;color: black;border-radius: 0.25em;background-color: #f0f8ff;}#sk-container-id-1 input.sk-toggleable__control:checked~div.sk-toggleable__content {max-height: 200px;max-width: 100%;overflow: auto;}#sk-container-id-1 input.sk-toggleable__control:checked~label.sk-toggleable__label-arrow:before {content: \"▾\";}#sk-container-id-1 div.sk-estimator input.sk-toggleable__control:checked~label.sk-toggleable__label {background-color: #d4ebff;}#sk-container-id-1 div.sk-label input.sk-toggleable__control:checked~label.sk-toggleable__label {background-color: #d4ebff;}#sk-container-id-1 input.sk-hidden--visually {border: 0;clip: rect(1px 1px 1px 1px);clip: rect(1px, 1px, 1px, 1px);height: 1px;margin: -1px;overflow: hidden;padding: 0;position: absolute;width: 1px;}#sk-container-id-1 div.sk-estimator {font-family: monospace;background-color: #f0f8ff;border: 1px dotted black;border-radius: 0.25em;box-sizing: border-box;margin-bottom: 0.5em;}#sk-container-id-1 div.sk-estimator:hover {background-color: #d4ebff;}#sk-container-id-1 div.sk-parallel-item::after {content: \"\";width: 100%;border-bottom: 1px solid gray;flex-grow: 1;}#sk-container-id-1 div.sk-label:hover label.sk-toggleable__label {background-color: #d4ebff;}#sk-container-id-1 div.sk-serial::before {content: \"\";position: absolute;border-left: 1px solid gray;box-sizing: border-box;top: 0;bottom: 0;left: 50%;z-index: 0;}#sk-container-id-1 div.sk-serial {display: flex;flex-direction: column;align-items: center;background-color: white;padding-right: 0.2em;padding-left: 0.2em;position: relative;}#sk-container-id-1 div.sk-item {position: relative;z-index: 1;}#sk-container-id-1 div.sk-parallel {display: flex;align-items: stretch;justify-content: center;background-color: white;position: relative;}#sk-container-id-1 div.sk-item::before, #sk-container-id-1 div.sk-parallel-item::before {content: \"\";position: absolute;border-left: 1px solid gray;box-sizing: border-box;top: 0;bottom: 0;left: 50%;z-index: -1;}#sk-container-id-1 div.sk-parallel-item {display: flex;flex-direction: column;z-index: 1;position: relative;background-color: white;}#sk-container-id-1 div.sk-parallel-item:first-child::after {align-self: flex-end;width: 50%;}#sk-container-id-1 div.sk-parallel-item:last-child::after {align-self: flex-start;width: 50%;}#sk-container-id-1 div.sk-parallel-item:only-child::after {width: 0;}#sk-container-id-1 div.sk-dashed-wrapped {border: 1px dashed gray;margin: 0 0.4em 0.5em 0.4em;box-sizing: border-box;padding-bottom: 0.4em;background-color: white;}#sk-container-id-1 div.sk-label label {font-family: monospace;font-weight: bold;display: inline-block;line-height: 1.2em;}#sk-container-id-1 div.sk-label-container {text-align: center;}#sk-container-id-1 div.sk-container {/* jupyter's `normalize.less` sets `[hidden] { display: none; }` but bootstrap.min.css set `[hidden] { display: none !important; }` so we also need the `!important` here to be able to override the default hidden behavior on the sphinx rendered scikit-learn.org. See: https://github.com/scikit-learn/scikit-learn/issues/21755 */display: inline-block !important;position: relative;}#sk-container-id-1 div.sk-text-repr-fallback {display: none;}</style><div id=\"sk-container-id-1\" class=\"sk-top-container\"><div class=\"sk-text-repr-fallback\"><pre>LogisticRegression(class_weight={0: 0.9456040744760792, 1: 0.9200991144690877,\n",
              "                                 2: 1.1687219441721273},\n",
              "                   max_iter=1000, multi_class=&#x27;multinomial&#x27;, random_state=42)</pre><b>In a Jupyter environment, please rerun this cell to show the HTML representation or trust the notebook. <br />On GitHub, the HTML representation is unable to render, please try loading this page with nbviewer.org.</b></div><div class=\"sk-container\" hidden><div class=\"sk-item\"><div class=\"sk-estimator sk-toggleable\"><input class=\"sk-toggleable__control sk-hidden--visually\" id=\"sk-estimator-id-1\" type=\"checkbox\" checked><label for=\"sk-estimator-id-1\" class=\"sk-toggleable__label sk-toggleable__label-arrow\">LogisticRegression</label><div class=\"sk-toggleable__content\"><pre>LogisticRegression(class_weight={0: 0.9456040744760792, 1: 0.9200991144690877,\n",
              "                                 2: 1.1687219441721273},\n",
              "                   max_iter=1000, multi_class=&#x27;multinomial&#x27;, random_state=42)</pre></div></div></div></div></div>"
            ]
          },
          "metadata": {},
          "execution_count": 12
        }
      ]
    },
    {
      "cell_type": "code",
      "source": [
        "# Validate the model on the validation set\n",
        "y_val_pred = model.predict(X_val)\n",
        "print(\"Validation Set Results:\")\n",
        "print(\"Accuracy:\", accuracy_score(y_val, y_val_pred))\n",
        "print(\"Confusion Matrix:\\n\", confusion_matrix(y_val, y_val_pred))\n",
        "print(\"Classification Report:\\n\", classification_report(y_val, y_val_pred))"
      ],
      "metadata": {
        "colab": {
          "base_uri": "https://localhost:8080/"
        },
        "id": "ErTkNvHVBdaR",
        "outputId": "b507f49f-6ef5-4fb7-bee0-434841ebd7e0"
      },
      "execution_count": null,
      "outputs": [
        {
          "output_type": "stream",
          "name": "stdout",
          "text": [
            "Validation Set Results:\n",
            "Accuracy: 0.7069557539487884\n",
            "Confusion Matrix:\n",
            " [[3083   71  412]\n",
            " [ 597 2455  681]\n",
            " [ 699  527 1668]]\n",
            "Classification Report:\n",
            "               precision    recall  f1-score   support\n",
            "\n",
            "           0       0.70      0.86      0.78      3566\n",
            "           1       0.80      0.66      0.72      3733\n",
            "           2       0.60      0.58      0.59      2894\n",
            "\n",
            "    accuracy                           0.71     10193\n",
            "   macro avg       0.70      0.70      0.70     10193\n",
            "weighted avg       0.71      0.71      0.70     10193\n",
            "\n"
          ]
        }
      ]
    },
    {
      "cell_type": "code",
      "source": [
        "# Test the model on the test set\n",
        "y_test_pred = model.predict(X_test)\n",
        "print(\"Test Set Results:\")\n",
        "print(\"Accuracy:\", accuracy_score(y_test, y_test_pred))\n",
        "print(\"Confusion Matrix:\\n\", confusion_matrix(y_test, y_test_pred))\n",
        "print(\"Classification Report:\\n\", classification_report(y_test, y_test_pred))"
      ],
      "metadata": {
        "id": "_pgqeR8ZB8Hi",
        "colab": {
          "base_uri": "https://localhost:8080/"
        },
        "outputId": "4ae16728-ce00-46be-f5a8-0fc871259dd1"
      },
      "execution_count": null,
      "outputs": [
        {
          "output_type": "stream",
          "name": "stdout",
          "text": [
            "Test Set Results:\n",
            "Accuracy: 0.6991072304522712\n",
            "Confusion Matrix:\n",
            " [[3090   93  434]\n",
            " [ 616 2415  668]\n",
            " [ 737  519 1621]]\n",
            "Classification Report:\n",
            "               precision    recall  f1-score   support\n",
            "\n",
            "           0       0.70      0.85      0.77      3617\n",
            "           1       0.80      0.65      0.72      3699\n",
            "           2       0.60      0.56      0.58      2877\n",
            "\n",
            "    accuracy                           0.70     10193\n",
            "   macro avg       0.70      0.69      0.69     10193\n",
            "weighted avg       0.70      0.70      0.70     10193\n",
            "\n"
          ]
        }
      ]
    },
    {
      "cell_type": "code",
      "source": [
        "from sklearn.model_selection import GridSearchCV\n",
        "\n",
        "param_grid = {\n",
        "    'solver': ['lbfgs', 'saga'],\n",
        "    'C': [0.01, 0.1, 1, 10, 100],\n",
        "    'max_iter': [1000, 2000, 3000]\n",
        "}\n",
        "\n",
        "grid_search = GridSearchCV(LogisticRegression(class_weight=class_weights, random_state=42, multi_class='multinomial'),\n",
        "                           param_grid, cv=5, scoring='accuracy', n_jobs=-1)\n",
        "grid_search.fit(X_train, y_train)\n",
        "\n",
        "best_model = grid_search.best_estimator_\n",
        "\n",
        "# Validate the best model\n",
        "y_val_pred_best = best_model.predict(X_val)\n",
        "print(\"Validation Set Results with Best Model:\")\n",
        "print(\"Accuracy:\", accuracy_score(y_val, y_val_pred_best))\n",
        "print(\"Confusion Matrix:\\n\", confusion_matrix(y_val, y_val_pred_best))\n",
        "print(\"Classification Report:\\n\", classification_report(y_val, y_val_pred_best))\n",
        "\n",
        "# Test the best model\n",
        "y_test_pred_best = best_model.predict(X_test)\n",
        "print(\"Test Set Results with Best Model:\")\n",
        "print(\"Accuracy:\", accuracy_score(y_test, y_test_pred_best))\n",
        "print(\"Confusion Matrix:\\n\", confusion_matrix(y_test, y_test_pred_best))\n",
        "print(\"Classification Report:\\n\", classification_report(y_test, y_test_pred_best))\n"
      ],
      "metadata": {
        "colab": {
          "base_uri": "https://localhost:8080/"
        },
        "id": "V5QdboFkNVPW",
        "outputId": "116dee63-0e02-44de-e1fb-1778b9762495"
      },
      "execution_count": null,
      "outputs": [
        {
          "output_type": "stream",
          "name": "stdout",
          "text": [
            "Validation Set Results with Best Model:\n",
            "Accuracy: 0.7069557539487884\n",
            "Confusion Matrix:\n",
            " [[3082   71  413]\n",
            " [ 596 2456  681]\n",
            " [ 699  527 1668]]\n",
            "Classification Report:\n",
            "               precision    recall  f1-score   support\n",
            "\n",
            "           0       0.70      0.86      0.78      3566\n",
            "           1       0.80      0.66      0.72      3733\n",
            "           2       0.60      0.58      0.59      2894\n",
            "\n",
            "    accuracy                           0.71     10193\n",
            "   macro avg       0.70      0.70      0.70     10193\n",
            "weighted avg       0.71      0.71      0.70     10193\n",
            "\n",
            "Test Set Results with Best Model:\n",
            "Accuracy: 0.6991072304522712\n",
            "Confusion Matrix:\n",
            " [[3089   93  435]\n",
            " [ 616 2415  668]\n",
            " [ 736  519 1622]]\n",
            "Classification Report:\n",
            "               precision    recall  f1-score   support\n",
            "\n",
            "           0       0.70      0.85      0.77      3617\n",
            "           1       0.80      0.65      0.72      3699\n",
            "           2       0.60      0.56      0.58      2877\n",
            "\n",
            "    accuracy                           0.70     10193\n",
            "   macro avg       0.70      0.69      0.69     10193\n",
            "weighted avg       0.70      0.70      0.70     10193\n",
            "\n"
          ]
        }
      ]
    },
    {
      "cell_type": "code",
      "source": [
        "# Define the parameter grid for hyperparameter tuning\n",
        "param_grid = {\n",
        "    'solver': ['lbfgs', 'saga'],\n",
        "    'C': [0.01, 0.1, 1, 10, 100],\n",
        "    'max_iter': [1000, 2000, 3000]\n",
        "}\n",
        "\n",
        "# Use GridSearchCV for hyperparameter tuning\n",
        "grid_search = GridSearchCV(LogisticRegression(class_weight=class_weights, random_state=42, multi_class='multinomial'),\n",
        "                           param_grid, cv=5, scoring='accuracy', n_jobs=-1)\n",
        "\n",
        "# Fit the model\n",
        "grid_search.fit(X_train, y_train)\n",
        "best_model = grid_search.best_estimator_\n",
        "\n",
        "# Validate the best model\n",
        "y_val_pred_best = best_model.predict(X_val)\n",
        "print(\"Validation Set Results with Best Model:\")\n",
        "print(\"Accuracy:\", accuracy_score(y_val, y_val_pred_best))\n",
        "print(\"Confusion Matrix:\\n\", confusion_matrix(y_val, y_val_pred_best))\n",
        "print(\"Classification Report:\\n\", classification_report(y_val, y_val_pred_best))\n",
        "\n",
        "# Test the best model\n",
        "y_test_pred_best = best_model.predict(X_test)\n",
        "print(\"Test Set Results with Best Model:\")\n",
        "print(\"Accuracy:\", accuracy_score(y_test, y_test_pred_best))\n",
        "print(\"Confusion Matrix:\\n\", confusion_matrix(y_test, y_test_pred_best))\n",
        "print(\"Classification Report:\\n\", classification_report(y_test, y_test_pred_best))\n"
      ],
      "metadata": {
        "colab": {
          "base_uri": "https://localhost:8080/"
        },
        "id": "FMqRq8b7PRIs",
        "outputId": "b726d876-f097-4f47-e127-3577d8fb21fe"
      },
      "execution_count": null,
      "outputs": [
        {
          "output_type": "stream",
          "name": "stdout",
          "text": [
            "Validation Set Results with Best Model:\n",
            "Accuracy: 0.7069557539487884\n",
            "Confusion Matrix:\n",
            " [[3082   71  413]\n",
            " [ 596 2456  681]\n",
            " [ 699  527 1668]]\n",
            "Classification Report:\n",
            "               precision    recall  f1-score   support\n",
            "\n",
            "           0       0.70      0.86      0.78      3566\n",
            "           1       0.80      0.66      0.72      3733\n",
            "           2       0.60      0.58      0.59      2894\n",
            "\n",
            "    accuracy                           0.71     10193\n",
            "   macro avg       0.70      0.70      0.70     10193\n",
            "weighted avg       0.71      0.71      0.70     10193\n",
            "\n",
            "Test Set Results with Best Model:\n",
            "Accuracy: 0.6991072304522712\n",
            "Confusion Matrix:\n",
            " [[3089   93  435]\n",
            " [ 616 2415  668]\n",
            " [ 736  519 1622]]\n",
            "Classification Report:\n",
            "               precision    recall  f1-score   support\n",
            "\n",
            "           0       0.70      0.85      0.77      3617\n",
            "           1       0.80      0.65      0.72      3699\n",
            "           2       0.60      0.56      0.58      2877\n",
            "\n",
            "    accuracy                           0.70     10193\n",
            "   macro avg       0.70      0.69      0.69     10193\n",
            "weighted avg       0.70      0.70      0.70     10193\n",
            "\n"
          ]
        }
      ]
    }
  ]
}